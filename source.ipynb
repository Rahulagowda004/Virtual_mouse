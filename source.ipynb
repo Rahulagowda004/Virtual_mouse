{
 "cells": [
  {
   "cell_type": "code",
   "execution_count": 5,
   "metadata": {},
   "outputs": [],
   "source": [
    "import cv2\n",
    "import mediapipe as mp\n",
    "import pyautogui\n",
    "import threading"
   ]
  },
  {
   "cell_type": "code",
   "execution_count": 7,
   "metadata": {},
   "outputs": [
    {
     "name": "stderr",
     "output_type": "stream",
     "text": [
      "d:\\Virtual_mouse\\.venv\\Lib\\site-packages\\google\\protobuf\\symbol_database.py:55: UserWarning: SymbolDatabase.GetPrototype() is deprecated. Please use message_factory.GetMessageClass() instead. SymbolDatabase.GetPrototype() will be removed soon.\n",
      "  warnings.warn('SymbolDatabase.GetPrototype() is deprecated. Please '\n"
     ]
    }
   ],
   "source": [
    "import cv2\n",
    "import mediapipe as mp\n",
    "import pyautogui\n",
    "import threading\n",
    "\n",
    "# Initialize Mediapipe Hands and Drawing\n",
    "mp_hands = mp.solutions.hands\n",
    "hands = mp_hands.Hands()\n",
    "mp_drawing = mp.solutions.drawing_utils\n",
    "\n",
    "# Initialize the video capture\n",
    "cap = cv2.VideoCapture(0)\n",
    "ret, frame = cap.read()\n",
    "height, width, _ = frame.shape\n",
    "\n",
    "# Initialize a variable to store the current frame\n",
    "current_frame = None\n",
    "\n",
    "# Define the DPI scaling factor\n",
    "DPI_SCALE = 2.0  # Increase this value to increase cursor sensitivity\n",
    "\n",
    "# Function to continuously capture frames from the webcam\n",
    "def capture_frames():\n",
    "    global current_frame\n",
    "    while True:\n",
    "        ret, frame = cap.read()\n",
    "        if not ret:\n",
    "            break\n",
    "        current_frame = frame\n",
    "\n",
    "# Start the frame capture thread\n",
    "capture_thread = threading.Thread(target=capture_frames)\n",
    "capture_thread.start()\n",
    "\n",
    "while True:\n",
    "    if current_frame is not None:\n",
    "        # Flip the frame horizontally for a later selfie-view display\n",
    "        image = cv2.flip(current_frame, 1)\n",
    "        image_rgb = cv2.cvtColor(image, cv2.COLOR_BGR2RGB)\n",
    "        \n",
    "        # Process the frame and get hand landmarks\n",
    "        results = hands.process(image_rgb)\n",
    "\n",
    "        if results.multi_hand_landmarks:\n",
    "            for hand_landmarks in results.multi_hand_landmarks:\n",
    "                mp_drawing.draw_landmarks(image, hand_landmarks, mp_hands.HAND_CONNECTIONS)\n",
    "\n",
    "                # Extract landmarks for the index finger tip and thumb tip\n",
    "                index_finger_tip = hand_landmarks.landmark[mp_hands.HandLandmark.INDEX_FINGER_TIP]\n",
    "                thumb_tip = hand_landmarks.landmark[mp_hands.HandLandmark.THUMB_TIP]\n",
    "\n",
    "                # Convert normalized coordinates to screen coordinates\n",
    "                screen_width, screen_height = pyautogui.size()\n",
    "                x = int(index_finger_tip.x * screen_width * DPI_SCALE)\n",
    "                y = int(index_finger_tip.y * screen_height * DPI_SCALE)\n",
    "\n",
    "                # Ensure the cursor does not move out of the screen bounds\n",
    "                x = max(0, min(screen_width - 1, x))\n",
    "                y = max(0, min(screen_height - 1, y))\n",
    "\n",
    "                # Move the mouse\n",
    "                pyautogui.moveTo(x, y)\n",
    "\n",
    "                # Check distance between index finger tip and thumb tip\n",
    "                distance = ((index_finger_tip.x - thumb_tip.x) ** 2 + (index_finger_tip.y - thumb_tip.y) ** 2) ** 0.5\n",
    "\n",
    "                # Click if distance is less than a threshold\n",
    "                if distance < 0.05:\n",
    "                    pyautogui.click()\n",
    "\n",
    "        # Display the frame\n",
    "        cv2.imshow('Hand Tracking', image)\n",
    "\n",
    "    if cv2.waitKey(1) & 0xFF == ord(\"q\"):  # Exit on pressing 'Esc'\n",
    "        break\n",
    "\n",
    "# Release resources\n",
    "cap.release()\n",
    "cv2.destroyAllWindows()"
   ]
  }
 ],
 "metadata": {
  "kernelspec": {
   "display_name": ".venv",
   "language": "python",
   "name": "python3"
  },
  "language_info": {
   "codemirror_mode": {
    "name": "ipython",
    "version": 3
   },
   "file_extension": ".py",
   "mimetype": "text/x-python",
   "name": "python",
   "nbconvert_exporter": "python",
   "pygments_lexer": "ipython3",
   "version": "3.12.4"
  }
 },
 "nbformat": 4,
 "nbformat_minor": 2
}
